{
  "nbformat": 4,
  "nbformat_minor": 0,
  "metadata": {
    "colab": {
      "name": "DataLoves_Linear_RegAssignment7.ipynb",
      "provenance": [],
      "collapsed_sections": []
    },
    "kernelspec": {
      "name": "python3",
      "display_name": "Python 3"
    },
    "language_info": {
      "name": "python"
    }
  },
  "cells": [
    {
      "cell_type": "markdown",
      "metadata": {
        "id": "2YWe_YBaLtBE"
      },
      "source": [
        "**Prediction using Supervised Machine Learning using Simple Linear Regression**\n",
        "\n",
        "**In this task we have to find the students scores based on their study hours. This is a simple Regression problem type because it has only two variables.**"
      ]
    },
    {
      "cell_type": "code",
      "metadata": {
        "id": "p74RjgNOLPti"
      },
      "source": [
        "import pandas as pd\n",
        "import numpy as np\n",
        "import sklearn\n",
        "import matplotlib.pyplot as plt"
      ],
      "execution_count": 22,
      "outputs": []
    },
    {
      "cell_type": "code",
      "metadata": {
        "colab": {
          "base_uri": "https://localhost:8080/",
          "height": 204
        },
        "id": "63d8uFXjMNY8",
        "outputId": "21585f78-e3f5-4da3-d40c-aa78dd190e5e"
      },
      "source": [
        "std = pd.read_csv(\"/content/sample_data/StudentHoursScores.csv\")\n",
        "std.head()"
      ],
      "execution_count": 23,
      "outputs": [
        {
          "output_type": "execute_result",
          "data": {
            "text/html": [
              "<div>\n",
              "<style scoped>\n",
              "    .dataframe tbody tr th:only-of-type {\n",
              "        vertical-align: middle;\n",
              "    }\n",
              "\n",
              "    .dataframe tbody tr th {\n",
              "        vertical-align: top;\n",
              "    }\n",
              "\n",
              "    .dataframe thead th {\n",
              "        text-align: right;\n",
              "    }\n",
              "</style>\n",
              "<table border=\"1\" class=\"dataframe\">\n",
              "  <thead>\n",
              "    <tr style=\"text-align: right;\">\n",
              "      <th></th>\n",
              "      <th>Hours</th>\n",
              "      <th>Scores</th>\n",
              "    </tr>\n",
              "  </thead>\n",
              "  <tbody>\n",
              "    <tr>\n",
              "      <th>0</th>\n",
              "      <td>7.7</td>\n",
              "      <td>79</td>\n",
              "    </tr>\n",
              "    <tr>\n",
              "      <th>1</th>\n",
              "      <td>5.9</td>\n",
              "      <td>60</td>\n",
              "    </tr>\n",
              "    <tr>\n",
              "      <th>2</th>\n",
              "      <td>4.5</td>\n",
              "      <td>45</td>\n",
              "    </tr>\n",
              "    <tr>\n",
              "      <th>3</th>\n",
              "      <td>3.3</td>\n",
              "      <td>33</td>\n",
              "    </tr>\n",
              "    <tr>\n",
              "      <th>4</th>\n",
              "      <td>1.1</td>\n",
              "      <td>12</td>\n",
              "    </tr>\n",
              "  </tbody>\n",
              "</table>\n",
              "</div>"
            ],
            "text/plain": [
              "   Hours  Scores\n",
              "0    7.7      79\n",
              "1    5.9      60\n",
              "2    4.5      45\n",
              "3    3.3      33\n",
              "4    1.1      12"
            ]
          },
          "metadata": {
            "tags": []
          },
          "execution_count": 23
        }
      ]
    },
    {
      "cell_type": "code",
      "metadata": {
        "colab": {
          "base_uri": "https://localhost:8080/"
        },
        "id": "B9FcfCx8MUdh",
        "outputId": "812a145b-0a48-46d9-af54-c6919ca6ee79"
      },
      "source": [
        "std.columns"
      ],
      "execution_count": 24,
      "outputs": [
        {
          "output_type": "execute_result",
          "data": {
            "text/plain": [
              "Index(['Hours', 'Scores'], dtype='object')"
            ]
          },
          "metadata": {
            "tags": []
          },
          "execution_count": 24
        }
      ]
    },
    {
      "cell_type": "code",
      "metadata": {
        "colab": {
          "base_uri": "https://localhost:8080/",
          "height": 297
        },
        "id": "TXSspQfiMiFl",
        "outputId": "04408c25-8fb9-490f-ecd6-010444bf5f02"
      },
      "source": [
        "std.describe()"
      ],
      "execution_count": 25,
      "outputs": [
        {
          "output_type": "execute_result",
          "data": {
            "text/html": [
              "<div>\n",
              "<style scoped>\n",
              "    .dataframe tbody tr th:only-of-type {\n",
              "        vertical-align: middle;\n",
              "    }\n",
              "\n",
              "    .dataframe tbody tr th {\n",
              "        vertical-align: top;\n",
              "    }\n",
              "\n",
              "    .dataframe thead th {\n",
              "        text-align: right;\n",
              "    }\n",
              "</style>\n",
              "<table border=\"1\" class=\"dataframe\">\n",
              "  <thead>\n",
              "    <tr style=\"text-align: right;\">\n",
              "      <th></th>\n",
              "      <th>Hours</th>\n",
              "      <th>Scores</th>\n",
              "    </tr>\n",
              "  </thead>\n",
              "  <tbody>\n",
              "    <tr>\n",
              "      <th>count</th>\n",
              "      <td>23.000000</td>\n",
              "      <td>23.000000</td>\n",
              "    </tr>\n",
              "    <tr>\n",
              "      <th>mean</th>\n",
              "      <td>4.817391</td>\n",
              "      <td>47.695652</td>\n",
              "    </tr>\n",
              "    <tr>\n",
              "      <th>std</th>\n",
              "      <td>2.709688</td>\n",
              "      <td>27.103228</td>\n",
              "    </tr>\n",
              "    <tr>\n",
              "      <th>min</th>\n",
              "      <td>1.100000</td>\n",
              "      <td>12.000000</td>\n",
              "    </tr>\n",
              "    <tr>\n",
              "      <th>25%</th>\n",
              "      <td>2.650000</td>\n",
              "      <td>27.000000</td>\n",
              "    </tr>\n",
              "    <tr>\n",
              "      <th>50%</th>\n",
              "      <td>4.100000</td>\n",
              "      <td>40.000000</td>\n",
              "    </tr>\n",
              "    <tr>\n",
              "      <th>75%</th>\n",
              "      <td>7.100000</td>\n",
              "      <td>72.500000</td>\n",
              "    </tr>\n",
              "    <tr>\n",
              "      <th>max</th>\n",
              "      <td>9.600000</td>\n",
              "      <td>96.000000</td>\n",
              "    </tr>\n",
              "  </tbody>\n",
              "</table>\n",
              "</div>"
            ],
            "text/plain": [
              "           Hours     Scores\n",
              "count  23.000000  23.000000\n",
              "mean    4.817391  47.695652\n",
              "std     2.709688  27.103228\n",
              "min     1.100000  12.000000\n",
              "25%     2.650000  27.000000\n",
              "50%     4.100000  40.000000\n",
              "75%     7.100000  72.500000\n",
              "max     9.600000  96.000000"
            ]
          },
          "metadata": {
            "tags": []
          },
          "execution_count": 25
        }
      ]
    },
    {
      "cell_type": "code",
      "metadata": {
        "colab": {
          "base_uri": "https://localhost:8080/",
          "height": 111
        },
        "id": "vkNJk5wCMlMC",
        "outputId": "78afe0ed-89b8-42d9-9328-61dbcfd1502a"
      },
      "source": [
        "std.corr()"
      ],
      "execution_count": 26,
      "outputs": [
        {
          "output_type": "execute_result",
          "data": {
            "text/html": [
              "<div>\n",
              "<style scoped>\n",
              "    .dataframe tbody tr th:only-of-type {\n",
              "        vertical-align: middle;\n",
              "    }\n",
              "\n",
              "    .dataframe tbody tr th {\n",
              "        vertical-align: top;\n",
              "    }\n",
              "\n",
              "    .dataframe thead th {\n",
              "        text-align: right;\n",
              "    }\n",
              "</style>\n",
              "<table border=\"1\" class=\"dataframe\">\n",
              "  <thead>\n",
              "    <tr style=\"text-align: right;\">\n",
              "      <th></th>\n",
              "      <th>Hours</th>\n",
              "      <th>Scores</th>\n",
              "    </tr>\n",
              "  </thead>\n",
              "  <tbody>\n",
              "    <tr>\n",
              "      <th>Hours</th>\n",
              "      <td>1.000000</td>\n",
              "      <td>0.997656</td>\n",
              "    </tr>\n",
              "    <tr>\n",
              "      <th>Scores</th>\n",
              "      <td>0.997656</td>\n",
              "      <td>1.000000</td>\n",
              "    </tr>\n",
              "  </tbody>\n",
              "</table>\n",
              "</div>"
            ],
            "text/plain": [
              "           Hours    Scores\n",
              "Hours   1.000000  0.997656\n",
              "Scores  0.997656  1.000000"
            ]
          },
          "metadata": {
            "tags": []
          },
          "execution_count": 26
        }
      ]
    },
    {
      "cell_type": "code",
      "metadata": {
        "colab": {
          "base_uri": "https://localhost:8080/",
          "height": 295
        },
        "id": "6HlIw0zuPs0G",
        "outputId": "414986a9-5f54-4782-aafc-6fa07172e6d5"
      },
      "source": [
        "plt.title(\"Study hours vs Score\")\n",
        "plt.xlabel(\"Hours\")\n",
        "plt.ylabel(\"Scores\")\n",
        "plt.plot(std[\"Hours\"], std[\"Scores\"], \"b--\")\n",
        "plt.show()"
      ],
      "execution_count": 27,
      "outputs": [
        {
          "output_type": "display_data",
          "data": {
            "image/png": "[encoded data removed]",
            "text/plain": [
              "<Figure size 432x288 with 1 Axes>"
            ]
          },
          "metadata": {
            "tags": [],
            "needs_background": "light"
          }
        }
      ]
    },
    {
      "cell_type": "code",
      "metadata": {
        "colab": {
          "base_uri": "https://localhost:8080/"
        },
        "id": "2bc-nnmqMokq",
        "outputId": "e2f7e0a1-ecdc-443b-8822-eeabf593c57d"
      },
      "source": [
        "x = std.iloc[:, :-1]\n",
        "y = std.iloc[:, 1]\n",
        "print(x)\n",
        "print(y)"
      ],
      "execution_count": 28,
      "outputs": [
        {
          "output_type": "stream",
          "text": [
            "    Hours\n",
            "0     7.7\n",
            "1     5.9\n",
            "2     4.5\n",
            "3     3.3\n",
            "4     1.1\n",
            "5     8.9\n",
            "6     2.5\n",
            "7     1.9\n",
            "8     2.7\n",
            "9     8.3\n",
            "10    5.5\n",
            "11    9.2\n",
            "12    1.5\n",
            "13    3.5\n",
            "14    8.5\n",
            "15    3.2\n",
            "16    6.5\n",
            "17    2.5\n",
            "18    9.6\n",
            "19    4.3\n",
            "20    4.1\n",
            "21    3.0\n",
            "22    2.6\n",
            "0     79\n",
            "1     60\n",
            "2     45\n",
            "3     33\n",
            "4     12\n",
            "5     87\n",
            "6     21\n",
            "7     19\n",
            "8     29\n",
            "9     81\n",
            "10    58\n",
            "11    88\n",
            "12    14\n",
            "13    34\n",
            "14    85\n",
            "15    32\n",
            "16    66\n",
            "17    21\n",
            "18    96\n",
            "19    42\n",
            "20    40\n",
            "21    30\n",
            "22    25\n",
            "Name: Scores, dtype: int64\n"
          ],
          "name": "stdout"
        }
      ]
    },
    {
      "cell_type": "code",
      "metadata": {
        "id": "_7nrEAGnNNKv"
      },
      "source": [
        "from sklearn.model_selection import train_test_split\n",
        "\n",
        "xtrain, xtest, ytrain, ytest = train_test_split(x, y, test_size = 0.2, random_state = 0)"
      ],
      "execution_count": 29,
      "outputs": []
    },
    {
      "cell_type": "code",
      "metadata": {
        "colab": {
          "base_uri": "https://localhost:8080/"
        },
        "id": "miEeUZvANtMH",
        "outputId": "c2c28d9e-d91b-4b77-bf7b-102046e367cb"
      },
      "source": [
        "from sklearn.linear_model import LinearRegression\n",
        "\n",
        "model = LinearRegression()\n",
        "model.fit(xtrain, ytrain)\n",
        "ypred = model.predict(xtest)\n",
        "print(\"Prediciton of testing data by model:\\n\", ypred)"
      ],
      "execution_count": 30,
      "outputs": [
        {
          "output_type": "stream",
          "text": [
            "Prediciton of testing data by model:\n",
            " [91.81882791 54.56931042 29.40071751 84.7716219  40.47489839]\n"
          ],
          "name": "stdout"
        }
      ]
    },
    {
      "cell_type": "code",
      "metadata": {
        "colab": {
          "base_uri": "https://localhost:8080/",
          "height": 295
        },
        "id": "NZlRQvMZQjnG",
        "outputId": "7def9fa4-fcf5-4a3b-d07a-1a884835b207"
      },
      "source": [
        "plt.scatter(xtrain, ytrain, color = \"red\")\n",
        "plt.plot(xtrain, model.predict(xtrain))\n",
        "plt.title(\"Regression Line\")\n",
        "plt.xlabel(\"Hours\")\n",
        "plt.ylabel(\"Score\")\n",
        "plt.show()"
      ],
      "execution_count": 31,
      "outputs": [
        {
          "output_type": "display_data",
          "data": {
            "image/png": "[encoded data removed]",
            "text/plain": [
              "<Figure size 432x288 with 1 Axes>"
            ]
          },
          "metadata": {
            "tags": [],
            "needs_background": "light"
          }
        }
      ]
    },
    {
      "cell_type": "code",
      "metadata": {
        "colab": {
          "base_uri": "https://localhost:8080/"
        },
        "id": "6zvvP5I8Rttd",
        "outputId": "6a8c3304-e350-4451-e4fc-22fdcca6bc22"
      },
      "source": [
        "print(\"Coefficient:\", model.coef_)\n",
        "print(\"Slople/Intercept\", model.intercept_)"
      ],
      "execution_count": 32,
      "outputs": [
        {
          "output_type": "stream",
          "text": [
            "Coefficient: [10.06743716]\n",
            "Slople/Intercept -0.8015939692559186\n"
          ],
          "name": "stdout"
        }
      ]
    },
    {
      "cell_type": "code",
      "metadata": {
        "colab": {
          "base_uri": "https://localhost:8080/"
        },
        "id": "Ug5R_PP1ORbZ",
        "outputId": "ccd85750-17f0-4201-93e7-cd144b1fc174"
      },
      "source": [
        "from sklearn.metrics import r2_score\n",
        "\n",
        "accuracy = r2_score(ytest, ypred)\n",
        "print(\"Accuracy of model is:\", accuracy*100,\"%\")"
      ],
      "execution_count": 33,
      "outputs": [
        {
          "output_type": "stream",
          "text": [
            "Accuracy of model is: 99.00509060111312 %\n"
          ],
          "name": "stdout"
        }
      ]
    },
    {
      "cell_type": "code",
      "metadata": {
        "colab": {
          "base_uri": "https://localhost:8080/"
        },
        "id": "LH659CA_OyOJ",
        "outputId": "a2b3acf6-5d16-4746-f692-ce0ea5632fb2"
      },
      "source": [
        "ip = float(input(\"Enter no. of hours: \"))\n",
        "answer = model.predict([[ip]])\n",
        "print(\"Predicted score is:\", answer)"
      ],
      "execution_count": 34,
      "outputs": [
        {
          "output_type": "stream",
          "text": [
            "Enter no. of hours: 9\n",
            "Predicted score is: [89.80534048]\n"
          ],
          "name": "stdout"
        }
      ]
    },
    {
      "cell_type": "code",
      "metadata": {
        "id": "Lm-6AwaLdIQm"
      },
      "source": [
        "import math"
      ],
      "execution_count": 35,
      "outputs": []
    },
    {
      "cell_type": "code",
      "metadata": {
        "colab": {
          "base_uri": "https://localhost:8080/",
          "height": 310
        },
        "id": "1EwRXbYvdYBL",
        "outputId": "906716b8-b739-4242-fed8-0ce4d8fbbb33"
      },
      "source": [
        "x=np.array([1,2,3,4,5])   # y=3x+2\n",
        "y = np.array([5,8,11,14,17])\n",
        "def gradient(x,y):\n",
        "  a=0\n",
        "  b=0\n",
        "  rate=0.01\n",
        "  n=len(x)\n",
        "  plt.scatter(x,y,color='red')\n",
        "  cost_old=0\n",
        "  for i in range(1000):\n",
        "    y_pred = a*x+b\n",
        "    cost = (1/n)*sum([value**2 for value in (y - y_pred)])\n",
        "    print(a,b,i,cost)\n",
        "    plt.plot(x,y_pred, cost)\n",
        "    ad = -(2/n)*sum(x*(y-y_pred))\n",
        "    yd = -(2/n)*sum(y-y_pred)\n",
        "    a = a - rate*ad\n",
        "    b = b-rate*yd\n",
        "    if math.isclose(cost,cost_old):\n",
        "      break\n",
        "    cost_old = cost\n",
        "    return a,b\n",
        "\n",
        "df = pd.read_csv(\"/content/sample_data/Salary_Classification.csv\")\n",
        "x = np.array(df['YearsExperience'])\n",
        "y = np.array(df['Salary'])\n",
        "\n",
        "m,b = gradient(x,y)\n",
        "print(m,b)"
      ],
      "execution_count": 36,
      "outputs": [
        {
          "output_type": "stream",
          "text": [
            "0 0 0 6502955270.733334\n",
            "9547.974 1520.06\n"
          ],
          "name": "stdout"
        },
        {
          "output_type": "display_data",
          "data": {
            "image/png": "[encoded data removed]",
            "text/plain": [
              "<Figure size 432x288 with 1 Axes>"
            ]
          },
          "metadata": {
            "tags": [],
            "needs_background": "light"
          }
        }
      ]
    },
    {
      "cell_type": "markdown",
      "metadata": {
        "id": "wjaUlE15g9iW"
      },
      "source": [
        "**Pickle**"
      ]
    },
    {
      "cell_type": "code",
      "metadata": {
        "id": "Zg8e836Cg8-Y"
      },
      "source": [
        "import pickle"
      ],
      "execution_count": 37,
      "outputs": []
    },
    {
      "cell_type": "code",
      "metadata": {
        "id": "-ZP754ZvhDsT"
      },
      "source": [
        "with open(\"modelsave_pickel\", \"wb\") as file:\n",
        "  pickle.dump(model, file)"
      ],
      "execution_count": 38,
      "outputs": []
    },
    {
      "cell_type": "code",
      "metadata": {
        "id": "TYrEiJpthpWx"
      },
      "source": [
        "with open(\"modelsave_pickel\", \"rb\") as file:\n",
        "  newmodel = pickle.load(file)"
      ],
      "execution_count": 39,
      "outputs": []
    },
    {
      "cell_type": "code",
      "metadata": {
        "colab": {
          "base_uri": "https://localhost:8080/"
        },
        "id": "hA6Er_MEh2IV",
        "outputId": "41f547e5-8df8-4e15-faaa-8f57ce36d61b"
      },
      "source": [
        "newmodel.predict([[5]])"
      ],
      "execution_count": 40,
      "outputs": [
        {
          "output_type": "execute_result",
          "data": {
            "text/plain": [
              "array([49.53559183])"
            ]
          },
          "metadata": {
            "tags": []
          },
          "execution_count": 40
        }
      ]
    },
    {
      "cell_type": "code",
      "metadata": {
        "colab": {
          "base_uri": "https://localhost:8080/"
        },
        "id": "Db5tvh3Ch7ta",
        "outputId": "84edd41c-9e75-423e-f03f-74b2f7df75fb"
      },
      "source": [
        "newmodel.coef_"
      ],
      "execution_count": 41,
      "outputs": [
        {
          "output_type": "execute_result",
          "data": {
            "text/plain": [
              "array([10.06743716])"
            ]
          },
          "metadata": {
            "tags": []
          },
          "execution_count": 41
        }
      ]
    },
    {
      "cell_type": "markdown",
      "metadata": {
        "id": "9CM0N5_XiqmV"
      },
      "source": [
        "**Joblib**"
      ]
    },
    {
      "cell_type": "code",
      "metadata": {
        "colab": {
          "base_uri": "https://localhost:8080/"
        },
        "id": "mAGLU4p5iAeS",
        "outputId": "3272bd7f-4ab2-43d2-9332-477923d14768"
      },
      "source": [
        "from sklearn.externals import joblib\n",
        "joblib.dump(model, \"model_joblib\")"
      ],
      "execution_count": 42,
      "outputs": [
        {
          "output_type": "stream",
          "text": [
            "/usr/local/lib/python3.7/dist-packages/sklearn/externals/joblib/__init__.py:15: FutureWarning: sklearn.externals.joblib is deprecated in 0.21 and will be removed in 0.23. Please import this functionality directly from joblib, which can be installed with: pip install joblib. If this warning is raised when loading pickled models, you may need to re-serialize those models with scikit-learn 0.21+.\n",
            "  warnings.warn(msg, category=FutureWarning)\n"
          ],
          "name": "stderr"
        },
        {
          "output_type": "execute_result",
          "data": {
            "text/plain": [
              "['model_joblib']"
            ]
          },
          "metadata": {
            "tags": []
          },
          "execution_count": 42
        }
      ]
    },
    {
      "cell_type": "code",
      "metadata": {
        "id": "8Y-QTJfxjCu2"
      },
      "source": [
        "model = joblib.load(\"model_joblib\")"
      ],
      "execution_count": 43,
      "outputs": []
    },
    {
      "cell_type": "code",
      "metadata": {
        "id": "kxZbr7onjueg"
      },
      "source": [
        ""
      ],
      "execution_count": 43,
      "outputs": []
    }
  ]
}